{
 "cells": [
  {
   "cell_type": "code",
   "execution_count": 1,
   "metadata": {},
   "outputs": [],
   "source": [
    "# Import necessary libraries\n",
    "import numpy as np\n",
    "import pandas as pd\n",
    "import warnings\n",
    "warnings.filterwarnings('ignore')\n",
    "import matplotlib.pyplot as plt\n",
    "import seaborn as sns\n",
    "\n",
    "from sklearn.model_selection import train_test_split\n",
    "from sklearn.preprocessing import StandardScaler, PolynomialFeatures, LabelEncoder\n",
    "from sklearn.linear_model import LinearRegression\n",
    "from sklearn.metrics import mean_absolute_error, mean_squared_error, r2_score"
   ]
  },
  {
   "cell_type": "code",
   "execution_count": 81,
   "metadata": {},
   "outputs": [],
   "source": [
    "# Load the dataset\n",
    "df = pd.read_csv('health.data.cleaned.csv')\n",
    "\n",
    "# Rename columns for easier access\n",
    "df.rename(columns={\n",
    "    'Height (cm)': 'Height',\n",
    "    'Weight (kg)': 'Weight',\n",
    "    'Blood Pressure (s/d)': 'Blood_Pressure',\n",
    "    'Cholesterol Level (mg/dL)': 'Cholesterol',\n",
    "    'Blood Glucose Level (mg/dL)': 'Blood_Glucose',\n",
    "    'Bone Density (g/cm²)': 'Bone_Density',\n",
    "    'Vision Sharpness': 'Vision',\n",
    "    'Hearing Ability (dB)': 'Hearing',\n",
    "    'Physical Activity Level': 'Physical_Activity',\n",
    "    'Smoking Status': 'Smoking',\n",
    "    'Alcohol Consumption': 'Alcohol',\n",
    "    'Chronic Diseases': 'Chronic_Diseases',\n",
    "    'Medication Use': 'Medication',\n",
    "    'Family History': 'Family_History',\n",
    "    'Cognitive Function': 'Cognitive_Function',\n",
    "    'Mental Health Status': 'Mental_Health',\n",
    "    'Sleep Patterns': 'Sleep',\n",
    "    'Stress Levels': 'Stress',\n",
    "    'Pollution Exposure': 'Pollution',\n",
    "    'Sun Exposure': 'Sun_Exposure',\n",
    "    'Education Level': 'Education',\n",
    "    'Income Level': 'Income',\n",
    "    'Age (years)': 'Age'\n",
    "}, inplace=True)"
   ]
  },
  {
   "cell_type": "code",
   "execution_count": 82,
   "metadata": {},
   "outputs": [
    {
     "name": "stdout",
     "output_type": "stream",
     "text": [
      "Unique values in Mental_Health after mapping: [2 0 1 3]\n",
      "Missing values in Mental_Health after mapping: 0\n"
     ]
    }
   ],
   "source": [
    "# Map Mental_Health to numeric values\n",
    "mental_health_mapping = {'Poor': 0, 'Fair': 1, 'Good': 2, 'Excellent': 3}\n",
    "df['Mental_Health'] = df['Mental_Health'].map(mental_health_mapping)\n",
    "\n",
    "# Fill NaN values with mode (most frequent value)\n",
    "df['Mental_Health'].fillna(df['Mental_Health'].mode()[0], inplace=True)\n",
    "\n",
    "# Confirm mapping worked\n",
    "print(\"Unique values in Mental_Health after mapping:\", df['Mental_Health'].unique())\n",
    "print(\"Missing values in Mental_Health after mapping:\", df['Mental_Health'].isnull().sum())"
   ]
  },
  {
   "cell_type": "code",
   "execution_count": 83,
   "metadata": {},
   "outputs": [],
   "source": [
    "for column in df.columns:\n",
    "    if df[column].dtype == 'object':  # If categorical\n",
    "        df[column].fillna(df[column].mode()[0], inplace=True)\n",
    "    else:  # If numerical\n",
    "        df[column].fillna(df[column].mean(), inplace=True)"
   ]
  },
  {
   "cell_type": "code",
   "execution_count": 84,
   "metadata": {},
   "outputs": [
    {
     "name": "stdout",
     "output_type": "stream",
     "text": [
      "0\n"
     ]
    }
   ],
   "source": [
    "print(df.isnull().sum().sum())  # Should print 0"
   ]
  },
  {
   "cell_type": "code",
   "execution_count": 85,
   "metadata": {},
   "outputs": [],
   "source": [
    "# Fix Blood Pressure Column (Split into two numeric columns)\n",
    "df[['Systolic_BP', 'Diastolic_BP']] = df['Blood_Pressure'].str.split('/', expand=True)\n",
    "\n",
    "# Convert to numeric values\n",
    "df['Systolic_BP'] = pd.to_numeric(df['Systolic_BP'])\n",
    "df['Diastolic_BP'] = pd.to_numeric(df['Diastolic_BP'])\n",
    "\n",
    "# Drop the original Blood_Pressure column\n",
    "df.drop(columns=['Blood_Pressure'], inplace=True)"
   ]
  },
  {
   "cell_type": "code",
   "execution_count": 86,
   "metadata": {},
   "outputs": [
    {
     "data": {
      "text/plain": [
       "Index(['Gender', 'Height', 'Weight', 'Cholesterol', 'BMI', 'Blood_Glucose',\n",
       "       'Bone_Density', 'Vision', 'Hearing', 'Physical_Activity', 'Smoking',\n",
       "       'Alcohol', 'Diet', 'Chronic_Diseases', 'Medication', 'Family_History',\n",
       "       'Cognitive_Function', 'Mental_Health', 'Sleep', 'Stress', 'Pollution',\n",
       "       'Sun_Exposure', 'Education', 'Income', 'Age', 'Systolic_BP',\n",
       "       'Diastolic_BP'],\n",
       "      dtype='object')"
      ]
     },
     "execution_count": 86,
     "metadata": {},
     "output_type": "execute_result"
    }
   ],
   "source": [
    "df.columns"
   ]
  },
  {
   "cell_type": "code",
   "execution_count": 87,
   "metadata": {},
   "outputs": [
    {
     "name": "stdout",
     "output_type": "stream",
     "text": [
      "Gender                 object\n",
      "Height                float64\n",
      "Weight                float64\n",
      "Cholesterol           float64\n",
      "BMI                   float64\n",
      "Blood_Glucose         float64\n",
      "Bone_Density          float64\n",
      "Vision                float64\n",
      "Hearing               float64\n",
      "Physical_Activity      object\n",
      "Smoking                object\n",
      "Alcohol                object\n",
      "Diet                   object\n",
      "Chronic_Diseases       object\n",
      "Medication             object\n",
      "Family_History         object\n",
      "Cognitive_Function    float64\n",
      "Mental_Health           int64\n",
      "Sleep                  object\n",
      "Stress                float64\n",
      "Pollution             float64\n",
      "Sun_Exposure          float64\n",
      "Education              object\n",
      "Income                 object\n",
      "Age                     int64\n",
      "Systolic_BP             int64\n",
      "Diastolic_BP            int64\n",
      "dtype: object\n"
     ]
    }
   ],
   "source": [
    "print(df.dtypes)"
   ]
  },
  {
   "cell_type": "code",
   "execution_count": 88,
   "metadata": {},
   "outputs": [
    {
     "name": "stdout",
     "output_type": "stream",
     "text": [
      "Gender                              int64\n",
      "Height                            float64\n",
      "Weight                            float64\n",
      "Cholesterol                       float64\n",
      "BMI                               float64\n",
      "Blood_Glucose                     float64\n",
      "Bone_Density                      float64\n",
      "Vision                            float64\n",
      "Hearing                           float64\n",
      "Cognitive_Function                float64\n",
      "Mental_Health                       int64\n",
      "Stress                            float64\n",
      "Pollution                         float64\n",
      "Sun_Exposure                      float64\n",
      "Age                                 int64\n",
      "Systolic_BP                         int64\n",
      "Diastolic_BP                        int64\n",
      "Physical_Activity_Low                bool\n",
      "Physical_Activity_Moderate           bool\n",
      "Smoking_Former                       bool\n",
      "Smoking_Never                        bool\n",
      "Alcohol_Occasional                   bool\n",
      "Diet_High-fat                        bool\n",
      "Diet_Low-carb                        bool\n",
      "Diet_Vegetarian                      bool\n",
      "Chronic_Diseases_Heart Disease       bool\n",
      "Chronic_Diseases_Hypertension        bool\n",
      "Medication_Regular                   bool\n",
      "Family_History_Heart Disease         bool\n",
      "Family_History_Hypertension          bool\n",
      "Sleep_Insomnia                       bool\n",
      "Sleep_Normal                         bool\n",
      "Education_Postgraduate               bool\n",
      "Education_Undergraduate              bool\n",
      "Income_Low                           bool\n",
      "Income_Medium                        bool\n",
      "dtype: object\n"
     ]
    }
   ],
   "source": [
    "# Label encode ordinal variables\n",
    "df['Gender'] = df['Gender'].map({'Male': 0, 'Female': 1})  # Convert Gender to numeric\n",
    "\n",
    "# One-hot encode non-ordinal categorical variables\n",
    "df = pd.get_dummies(df, columns=['Physical_Activity', 'Smoking', 'Alcohol', 'Diet', \n",
    "                                 'Chronic_Diseases', 'Medication', 'Family_History', \n",
    "                                 'Sleep', 'Education', 'Income'], drop_first=True)\n",
    "\n",
    "# Confirm all columns are now numeric\n",
    "print(df.dtypes)"
   ]
  },
  {
   "cell_type": "code",
   "execution_count": 92,
   "metadata": {},
   "outputs": [
    {
     "name": "stdout",
     "output_type": "stream",
     "text": [
      "Hearing                           0.712374\n",
      "Systolic_BP                       0.646056\n",
      "Diastolic_BP                      0.611071\n",
      "Cholesterol                       0.432368\n",
      "Blood_Glucose                     0.428573\n",
      "Smoking_Former                    0.091012\n",
      "Education_Postgraduate            0.038378\n",
      "Alcohol_Occasional                0.032695\n",
      "Stress                            0.029093\n",
      "Height                            0.020322\n",
      "Diet_High-fat                     0.019952\n",
      "Physical_Activity_Low             0.016115\n",
      "Chronic_Diseases_Hypertension     0.015748\n",
      "Sleep_Normal                      0.009994\n",
      "Sun_Exposure                      0.009245\n",
      "Family_History_Hypertension       0.003717\n",
      "Weight                            0.002521\n",
      "Diet_Vegetarian                   0.000372\n",
      "Medication_Regular               -0.000041\n",
      "Family_History_Heart Disease     -0.000770\n",
      "Chronic_Diseases_Heart Disease   -0.001419\n",
      "Education_Undergraduate          -0.002912\n",
      "Diet_Low-carb                    -0.003023\n",
      "Mental_Health                    -0.005899\n",
      "Physical_Activity_Moderate       -0.007513\n",
      "BMI                              -0.008042\n",
      "Income_Medium                    -0.009366\n",
      "Sleep_Insomnia                   -0.010066\n",
      "Pollution                        -0.010464\n",
      "Income_Low                       -0.016677\n",
      "Gender                           -0.021714\n",
      "Smoking_Never                    -0.191102\n",
      "Cognitive_Function               -0.508058\n",
      "Vision                           -0.899692\n",
      "Bone_Density                     -0.937712\n",
      "Name: Age, dtype: float64\n"
     ]
    }
   ],
   "source": [
    "# Check correlation of features with Age\n",
    "correlations = df.corr()['Age'].drop('Age').sort_values(ascending=False)\n",
    "print(correlations)"
   ]
  },
  {
   "cell_type": "markdown",
   "metadata": {},
   "source": [
    "## Single Regression Model (Using Standardized Hearing)"
   ]
  },
  {
   "cell_type": "code",
   "execution_count": 96,
   "metadata": {},
   "outputs": [],
   "source": [
    "# Define independent (X) and dependent (y) variable\n",
    "X_single = df[['Hearing']]\n",
    "y = df['Age']"
   ]
  },
  {
   "cell_type": "code",
   "execution_count": 97,
   "metadata": {},
   "outputs": [],
   "source": [
    "# Standardize Hearing\n",
    "scaler = StandardScaler()\n",
    "X_single_scaled = scaler.fit_transform(X_single)\n",
    "\n",
    "# Split dataset into training (80%) and testing (20%) sets\n",
    "X_train, X_test, y_train, y_test = train_test_split(X_single_scaled, y, test_size=0.2, random_state=42)\n",
    "\n",
    "# Train Linear Regression model\n",
    "lr_single = LinearRegression()\n",
    "lr_single.fit(X_train, y_train)\n",
    "\n",
    "# Make predictions\n",
    "y_pred_single = lr_single.predict(X_test)"
   ]
  },
  {
   "cell_type": "code",
   "execution_count": 98,
   "metadata": {},
   "outputs": [
    {
     "name": "stdout",
     "output_type": "stream",
     "text": [
      "Single Regression Model Performance (Using Standardized Hearing):\n",
      "MAE: 11.684\n",
      "MSE: 205.733\n",
      "R² Score: 0.498\n"
     ]
    }
   ],
   "source": [
    "# Evaluate the model\n",
    "mae_single = mean_absolute_error(y_test, y_pred_single)\n",
    "mse_single = mean_squared_error(y_test, y_pred_single)\n",
    "r2_single = r2_score(y_test, y_pred_single)\n",
    "\n",
    "# Print performance\n",
    "print(f\"Single Regression Model Performance (Using Standardized Hearing):\\n\"\n",
    "      f\"MAE: {mae_single:.3f}\\n\"\n",
    "      f\"MSE: {mse_single:.3f}\\n\"\n",
    "      f\"R² Score: {r2_single:.3f}\")"
   ]
  },
  {
   "cell_type": "markdown",
   "metadata": {},
   "source": [
    "#### The Single Linear Regression model using Hearing as the sole predictor for Age shows a Mean Absolute Error (MAE) of 11.684, meaning the model's predictions deviate from the actual ages by an average of ~11.7 years. The Mean Squared Error (MSE) of 205.733 suggests that the model struggles to minimize large errors in prediction. The R² score of 0.498 indicates that Hearing explains ~49.8% of the variance in Age, which is a moderate relationship but suggests that additional features could improve prediction accuracy. While hearing ability is a reasonable indicator of aging, incorporating more health-related variables may lead to a more robust model."
   ]
  },
  {
   "cell_type": "markdown",
   "metadata": {},
   "source": [
    "## Polynomial Regression Model (Features based on correlation: Hearing, Systolic_BP, Diastolic_BP, Cholesterol, Blood_Glucose, Cognitive_Function, Vision, Bone_Density)"
   ]
  },
  {
   "cell_type": "code",
   "execution_count": 99,
   "metadata": {},
   "outputs": [],
   "source": [
    "# Select the best features based on correlation\n",
    "selected_features = ['Hearing', 'Systolic_BP', 'Diastolic_BP', 'Cholesterol', \n",
    "                     'Blood_Glucose', 'Cognitive_Function', 'Vision', 'Bone_Density']"
   ]
  },
  {
   "cell_type": "code",
   "execution_count": 100,
   "metadata": {},
   "outputs": [],
   "source": [
    "# Extract features and target variable\n",
    "X_poly = df[selected_features]\n",
    "y_poly = df['Age']"
   ]
  },
  {
   "cell_type": "code",
   "execution_count": 101,
   "metadata": {},
   "outputs": [],
   "source": [
    "# Standardize the selected features\n",
    "scaler = StandardScaler()\n",
    "X_poly_scaled = scaler.fit_transform(X_poly)\n",
    "\n",
    "# Apply Polynomial Features (Degree = 2)\n",
    "poly = PolynomialFeatures(degree=2, include_bias=False)\n",
    "X_poly_transformed = poly.fit_transform(X_poly_scaled)"
   ]
  },
  {
   "cell_type": "code",
   "execution_count": 102,
   "metadata": {},
   "outputs": [],
   "source": [
    "# Split into train and test sets\n",
    "X_train_poly, X_test_poly, y_train_poly, y_test_poly = train_test_split(X_poly_transformed, y_poly, test_size=0.2, random_state=42)\n",
    "\n",
    "# Train the Polynomial Regression Model\n",
    "poly_reg = LinearRegression()\n",
    "poly_reg.fit(X_train_poly, y_train_poly)\n",
    "\n",
    "# Predictions\n",
    "y_pred_poly = poly_reg.predict(X_test_poly)"
   ]
  },
  {
   "cell_type": "code",
   "execution_count": 103,
   "metadata": {},
   "outputs": [
    {
     "name": "stdout",
     "output_type": "stream",
     "text": [
      "Polynomial Regression Model Performance (Degree = 2):\n",
      "MAE: 4.191\n",
      "MSE: 28.006\n",
      "R² Score: 0.932\n"
     ]
    }
   ],
   "source": [
    "# Evaluate the model\n",
    "mae_poly = mean_absolute_error(y_test_poly, y_pred_poly)\n",
    "mse_poly = mean_squared_error(y_test_poly, y_pred_poly)\n",
    "r2_poly = r2_score(y_test_poly, y_pred_poly)\n",
    "\n",
    "# Display the results\n",
    "print(f\"Polynomial Regression Model Performance (Degree = 2):\")\n",
    "print(f\"MAE: {mae_poly:.3f}\")\n",
    "print(f\"MSE: {mse_poly:.3f}\")\n",
    "print(f\"R² Score: {r2_poly:.3f}\")"
   ]
  },
  {
   "cell_type": "markdown",
   "metadata": {},
   "source": [
    "#### The polynomial regression model with degree=2 significantly improves predictive performance compared to the single-regression model. The Mean Absolute Error (MAE) of 4.191 and Mean Squared Error (MSE) of 28.006 indicate that the model makes much smaller errors when predicting age. More importantly, the R² Score of 0.932 suggests that the model explains 93.2% of the variance in age, meaning it effectively captures the relationship between the features and the target variable. This high R² value suggests that adding quadratic terms helped uncover deeper patterns in the data, allowing for a more accurate estimation of age based on health indicators. However, it's essential to check for overfitting, as a very high R² might indicate that the model is too closely fitted to the training data."
   ]
  }
 ],
 "metadata": {
  "kernelspec": {
   "display_name": "Python 3",
   "language": "python",
   "name": "python3"
  },
  "language_info": {
   "codemirror_mode": {
    "name": "ipython",
    "version": 3
   },
   "file_extension": ".py",
   "mimetype": "text/x-python",
   "name": "python",
   "nbconvert_exporter": "python",
   "pygments_lexer": "ipython3",
   "version": "3.12.5"
  }
 },
 "nbformat": 4,
 "nbformat_minor": 2
}
